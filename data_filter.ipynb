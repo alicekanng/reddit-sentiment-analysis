{
 "cells": [
  {
   "cell_type": "code",
   "execution_count": 81,
   "id": "e2a68b94-0901-4e94-9a99-38f9c5e10bc0",
   "metadata": {},
   "outputs": [],
   "source": [
    "import json"
   ]
  },
  {
   "cell_type": "code",
   "execution_count": 82,
   "id": "740b3445-ba8f-48fb-88b3-53e6bc2194b3",
   "metadata": {},
   "outputs": [],
   "source": [
    "reddit_dict = dict()\n",
    "\n",
    "with open('state_reddit_data.json') as f:\n",
    "    reddit_dict = json.load(f)"
   ]
  },
  {
   "cell_type": "code",
   "execution_count": 83,
   "id": "f898e6b5-88d1-4eee-9e9f-e1646381e450",
   "metadata": {},
   "outputs": [],
   "source": [
    "# iterate through dict and only get the posts and comments\n",
    "data = dict()\n",
    "\n",
    "for k in reddit_dict.keys():\n",
    "    state_posts = []\n",
    "    state_comments = []\n",
    "    \n",
    "    for p in reddit_dict[k]:\n",
    "        post = {\n",
    "            \"selftext\": p[\"selftext\"],\n",
    "            \"title\": p[\"title\"],\n",
    "            \"comments\": [c[\"body\"] for c in p[\"comments\"]]\n",
    "        }\n",
    "        state_posts.append(post)\n",
    "    data[k] = state_posts"
   ]
  },
  {
   "cell_type": "code",
   "execution_count": 84,
   "id": "327ad669-a2d9-4f79-8626-bfb6747649c9",
   "metadata": {},
   "outputs": [],
   "source": [
    "# list of words to look for when filtering political posts\n",
    "keywords = [\n",
    "    \"election\",\n",
    "    \"president\",\n",
    "    \"presidential\",\n",
    "    \"democrat\",\n",
    "    \"republican\",\n",
    "    \"vote\", # take this out for pure filtering, put in for topic modeling\n",
    "    # \"vote \", # take this out for topic modeling, put in for pure filtering\n",
    "    \"voting\",\n",
    "    \"donald\",\n",
    "    \"trump\",\n",
    "    \"donald trump\",\n",
    "    \"kamala\",\n",
    "    \"harris\",\n",
    "    \"kamala harris\",\n",
    "    \"abortion\",\n",
    "    \"democracy\",\n",
    "    \"immigration\",\n",
    "    \"economy\",\n",
    "    \"war \",\n",
    "    \"ukraine\",\n",
    "    \"israel\",\n",
    "    \"palestine\",\n",
    "    \"climate\",\n",
    "    \"healthcare\",\n",
    "    \"inflation\"\n",
    "]"
   ]
  },
  {
   "cell_type": "code",
   "execution_count": 85,
   "id": "1fdb8311-f9e8-4ec2-9389-cb1e1ae5472a",
   "metadata": {},
   "outputs": [],
   "source": [
    "# filter for political posts\n",
    "political_posts = dict()\n",
    "\n",
    "for k in data.keys():\n",
    "    posts = []\n",
    "\n",
    "    for post in data[k]:\n",
    "        for w in keywords:\n",
    "            if w in post[\"selftext\"].lower() or w in post[\"title\"].lower():\n",
    "                posts.append(post)\n",
    "\n",
    "    political_posts[k] = posts"
   ]
  },
  {
   "cell_type": "code",
   "execution_count": 86,
   "id": "051772ac-16e1-4fe7-87ea-4e9ddf163f41",
   "metadata": {},
   "outputs": [
    {
     "data": {
      "text/plain": [
       "{'texas': 11,\n",
       " 'california': 16,\n",
       " 'newjersey': 0,\n",
       " 'michigan': 6,\n",
       " 'minnesota': 3,\n",
       " 'colorado': 1,\n",
       " 'wisconsin': 17,\n",
       " 'florida': 5,\n",
       " 'connecticut': 7,\n",
       " 'oregon': 1,\n",
       " 'ohio': 4,\n",
       " 'hawaii': 0,\n",
       " 'northcarolina': 16,\n",
       " 'oklahoma': 12,\n",
       " 'maryland': 5,\n",
       " 'arizona': 3,\n",
       " 'virginia': 16,\n",
       " 'maine': 14,\n",
       " 'indiana': 4,\n",
       " 'iowa': 11,\n",
       " 'washington': 12,\n",
       " 'newhampshire': 4,\n",
       " 'alaska': 14,\n",
       " 'louisiana': 3,\n",
       " 'massachusetts': 3,\n",
       " 'vermont': 2,\n",
       " 'newyork': 24,\n",
       " 'arkansas': 6,\n",
       " 'pennsylvania': 12,\n",
       " 'alabama': 2,\n",
       " 'kentucky': 7,\n",
       " 'southcarolina': 1,\n",
       " 'georgia': 8,\n",
       " 'montana': 0,\n",
       " 'delaware': 2,\n",
       " 'utah': 6,\n",
       " 'rhodeisland': 1,\n",
       " 'missouri': 14,\n",
       " 'tennessee': 12,\n",
       " 'nebraska': 13,\n",
       " 'illinois': 18,\n",
       " 'westvirginia': 3,\n",
       " 'newmexico': 7,\n",
       " 'mississippi': 13,\n",
       " 'kansas': 15,\n",
       " 'northdakota': 12,\n",
       " 'idaho': 10,\n",
       " 'southdakota': 46,\n",
       " 'wyoming': 6,\n",
       " 'nevada': 9}"
      ]
     },
     "execution_count": 86,
     "metadata": {},
     "output_type": "execute_result"
    }
   ],
   "source": [
    "just_posts_size = dict()\n",
    "for k in data.keys():\n",
    "    just_posts_size[k] = len(political_posts[k])\n",
    "just_posts_size"
   ]
  },
  {
   "cell_type": "code",
   "execution_count": 87,
   "id": "73a9a598-1c0c-4d8f-a46e-b9df40c8cdc5",
   "metadata": {},
   "outputs": [],
   "source": [
    "# filter for political comments in addition\n",
    "political_data = dict()\n",
    "\n",
    "for k in data.keys():\n",
    "    posts_and_comments = []\n",
    "\n",
    "    for post in data[k]:\n",
    "        for w in keywords:\n",
    "            if w in post[\"selftext\"].lower() or w in post[\"title\"].lower():\n",
    "                posts_and_comments.append(post)\n",
    "            elif w in \" \".join(post[\"comments\"]).lower():\n",
    "                posts_and_comments.append(post)\n",
    "\n",
    "    political_data[k] = posts_and_comments"
   ]
  },
  {
   "cell_type": "code",
   "execution_count": 88,
   "id": "fd5bbf7d-cee7-4b5e-8178-303434cf2f7c",
   "metadata": {},
   "outputs": [
    {
     "data": {
      "text/plain": [
       "{'texas': 178,\n",
       " 'california': 73,\n",
       " 'newjersey': 17,\n",
       " 'michigan': 69,\n",
       " 'minnesota': 72,\n",
       " 'colorado': 58,\n",
       " 'wisconsin': 91,\n",
       " 'florida': 65,\n",
       " 'connecticut': 41,\n",
       " 'oregon': 84,\n",
       " 'ohio': 110,\n",
       " 'hawaii': 28,\n",
       " 'northcarolina': 106,\n",
       " 'oklahoma': 164,\n",
       " 'maryland': 98,\n",
       " 'arizona': 40,\n",
       " 'virginia': 94,\n",
       " 'maine': 129,\n",
       " 'indiana': 115,\n",
       " 'iowa': 148,\n",
       " 'washington': 52,\n",
       " 'newhampshire': 39,\n",
       " 'alaska': 147,\n",
       " 'louisiana': 84,\n",
       " 'massachusetts': 67,\n",
       " 'vermont': 44,\n",
       " 'newyork': 181,\n",
       " 'arkansas': 82,\n",
       " 'pennsylvania': 158,\n",
       " 'alabama': 127,\n",
       " 'kentucky': 59,\n",
       " 'southcarolina': 71,\n",
       " 'georgia': 68,\n",
       " 'montana': 18,\n",
       " 'delaware': 60,\n",
       " 'utah': 71,\n",
       " 'rhodeisland': 19,\n",
       " 'missouri': 128,\n",
       " 'tennessee': 103,\n",
       " 'nebraska': 131,\n",
       " 'illinois': 164,\n",
       " 'westvirginia': 84,\n",
       " 'newmexico': 38,\n",
       " 'mississippi': 108,\n",
       " 'kansas': 85,\n",
       " 'northdakota': 87,\n",
       " 'idaho': 136,\n",
       " 'southdakota': 252,\n",
       " 'wyoming': 58,\n",
       " 'nevada': 116}"
      ]
     },
     "execution_count": 88,
     "metadata": {},
     "output_type": "execute_result"
    }
   ],
   "source": [
    "posts_and_comments_size = dict()\n",
    "for k in data.keys():\n",
    "    posts_and_comments_size[k] = len(political_data[k])\n",
    "posts_and_comments_size"
   ]
  },
  {
   "cell_type": "code",
   "execution_count": 89,
   "id": "ebd16831-f088-463d-b240-8fb9370bd108",
   "metadata": {},
   "outputs": [],
   "source": [
    "political_comments = dict()\n",
    "\n",
    "for k in political_data.keys():\n",
    "    filtered_comments = []\n",
    "    for state in political_data[k]:\n",
    "        for c in state[\"comments\"]:\n",
    "               for w in keywords:\n",
    "                   if w in c:\n",
    "                       filtered_comments.append(c)\n",
    "    political_comments[k] = filtered_comments"
   ]
  },
  {
   "cell_type": "code",
   "execution_count": 90,
   "id": "24a0f65a-a15d-4101-8b6e-8ad2439213de",
   "metadata": {},
   "outputs": [
    {
     "data": {
      "text/plain": [
       "{'texas': 4320,\n",
       " 'california': 2884,\n",
       " 'newjersey': 36,\n",
       " 'michigan': 1446,\n",
       " 'minnesota': 985,\n",
       " 'colorado': 1680,\n",
       " 'wisconsin': 1713,\n",
       " 'florida': 633,\n",
       " 'connecticut': 466,\n",
       " 'oregon': 1835,\n",
       " 'ohio': 2913,\n",
       " 'hawaii': 79,\n",
       " 'northcarolina': 5114,\n",
       " 'oklahoma': 1523,\n",
       " 'maryland': 3380,\n",
       " 'arizona': 372,\n",
       " 'virginia': 3313,\n",
       " 'maine': 4985,\n",
       " 'indiana': 4270,\n",
       " 'iowa': 7906,\n",
       " 'washington': 1142,\n",
       " 'newhampshire': 239,\n",
       " 'alaska': 9434,\n",
       " 'louisiana': 520,\n",
       " 'massachusetts': 1754,\n",
       " 'vermont': 232,\n",
       " 'newyork': 12324,\n",
       " 'arkansas': 1231,\n",
       " 'pennsylvania': 12018,\n",
       " 'alabama': 3070,\n",
       " 'kentucky': 893,\n",
       " 'southcarolina': 2363,\n",
       " 'georgia': 844,\n",
       " 'montana': 77,\n",
       " 'delaware': 914,\n",
       " 'utah': 1254,\n",
       " 'rhodeisland': 61,\n",
       " 'missouri': 3378,\n",
       " 'tennessee': 2384,\n",
       " 'nebraska': 3491,\n",
       " 'illinois': 12612,\n",
       " 'westvirginia': 1939,\n",
       " 'newmexico': 560,\n",
       " 'mississippi': 3247,\n",
       " 'kansas': 2160,\n",
       " 'northdakota': 4086,\n",
       " 'idaho': 2768,\n",
       " 'southdakota': 8139,\n",
       " 'wyoming': 840,\n",
       " 'nevada': 13302}"
      ]
     },
     "execution_count": 90,
     "metadata": {},
     "output_type": "execute_result"
    }
   ],
   "source": [
    "comments_size = dict()\n",
    "for k in political_comments.keys():\n",
    "    comments_size[k] = len(political_comments[k])\n",
    "comments_size"
   ]
  },
  {
   "cell_type": "code",
   "execution_count": 91,
   "id": "42ecbf37-cfaf-4dd8-a2e5-6b4e685ad14b",
   "metadata": {},
   "outputs": [],
   "source": [
    "# DATA FORMAT\n",
    "# political_data contains posts and comments of results when filtered for either political posts or comments\n",
    "\n",
    "# political_data = {\n",
    "#    'texas': [\n",
    "#        {\n",
    "#            'selftext': \"__\",\n",
    "#            'title': \"__\",\n",
    "#            'comments': [\"__\", \"__\", \"__\"]\n",
    "#        },\n",
    "#        {\n",
    "#            'selftext': \"__\",\n",
    "#            'title': \"__\",\n",
    "#            'comments': [\"__\", \"__\", \"__\"]\n",
    "#        },\n",
    "#        ...\n",
    "#    ],\n",
    "#    'california': [\n",
    "#        {\n",
    "#            'selftext': \"__\",\n",
    "#            'title': \"__\",\n",
    "#            'comments': [\"__\", \"__\", \"__\"]\n",
    "#        },\n",
    "#        ...\n",
    "#    ]\n",
    "# }\n",
    "\n",
    "# political_posts contains posts that contain any of the defined political keywords\n",
    "# data should look the same as above\n",
    "\n",
    "# political_comments contains state names mapped to comments that contain any of the defined political keywords\n",
    "# political_comments = {\n",
    "#    'texas': [__, __, __],\n",
    "#    'california': [__, __, __],\n",
    "#    ...\n",
    "# }"
   ]
  },
  {
   "cell_type": "code",
   "execution_count": 92,
   "id": "94c0da96-ae4c-4f9e-ae3f-cd741e896545",
   "metadata": {},
   "outputs": [],
   "source": [
    "from bertopic import BERTopic\n",
    "topic_model = BERTopic.load(\"MaartenGr/BERTopic_Wikipedia\")\n",
    "\n",
    "model_topics = topic_model.get_topic_info()"
   ]
  },
  {
   "cell_type": "code",
   "execution_count": 93,
   "id": "0c6ca2b2-d388-476e-99fe-25ec5b81a56e",
   "metadata": {},
   "outputs": [
    {
     "data": {
      "text/html": [
       "<div>\n",
       "<style scoped>\n",
       "    .dataframe tbody tr th:only-of-type {\n",
       "        vertical-align: middle;\n",
       "    }\n",
       "\n",
       "    .dataframe tbody tr th {\n",
       "        vertical-align: top;\n",
       "    }\n",
       "\n",
       "    .dataframe thead th {\n",
       "        text-align: right;\n",
       "    }\n",
       "</style>\n",
       "<table border=\"1\" class=\"dataframe\">\n",
       "  <thead>\n",
       "    <tr style=\"text-align: right;\">\n",
       "      <th></th>\n",
       "      <th>Topic</th>\n",
       "      <th>Count</th>\n",
       "      <th>Name</th>\n",
       "      <th>Representation</th>\n",
       "      <th>Representative_Docs</th>\n",
       "    </tr>\n",
       "  </thead>\n",
       "  <tbody>\n",
       "    <tr>\n",
       "      <th>0</th>\n",
       "      <td>-1</td>\n",
       "      <td>633881</td>\n",
       "      <td>-1_cast_films_film_movie</td>\n",
       "      <td>[cast, films, film, movie, 2020, comedy, relea...</td>\n",
       "      <td>NaN</td>\n",
       "    </tr>\n",
       "    <tr>\n",
       "      <th>1</th>\n",
       "      <td>0</td>\n",
       "      <td>18441</td>\n",
       "      <td>0_goalscorer_scored_goals_goal</td>\n",
       "      <td>[goalscorer, scored, goals, goal, goalkeeper, ...</td>\n",
       "      <td>NaN</td>\n",
       "    </tr>\n",
       "    <tr>\n",
       "      <th>2</th>\n",
       "      <td>1</td>\n",
       "      <td>8518</td>\n",
       "      <td>1_khan_actor_raj_shah</td>\n",
       "      <td>[khan, actor, raj, shah, crore, hai, actress, ...</td>\n",
       "      <td>NaN</td>\n",
       "    </tr>\n",
       "    <tr>\n",
       "      <th>3</th>\n",
       "      <td>2</td>\n",
       "      <td>7521</td>\n",
       "      <td>2_married_divorced_couple_remarried</td>\n",
       "      <td>[married, divorced, couple, remarried, engaged...</td>\n",
       "      <td>NaN</td>\n",
       "    </tr>\n",
       "    <tr>\n",
       "      <th>4</th>\n",
       "      <td>3</td>\n",
       "      <td>6765</td>\n",
       "      <td>3_cast_actress_starred_actor</td>\n",
       "      <td>[cast, actress, starred, actor, actors, starri...</td>\n",
       "      <td>NaN</td>\n",
       "    </tr>\n",
       "    <tr>\n",
       "      <th>...</th>\n",
       "      <td>...</td>\n",
       "      <td>...</td>\n",
       "      <td>...</td>\n",
       "      <td>...</td>\n",
       "      <td>...</td>\n",
       "    </tr>\n",
       "    <tr>\n",
       "      <th>2372</th>\n",
       "      <td>2371</td>\n",
       "      <td>30</td>\n",
       "      <td>2371_paintings_painting_paint_art</td>\n",
       "      <td>[paintings, painting, paint, art, artist, gall...</td>\n",
       "      <td>NaN</td>\n",
       "    </tr>\n",
       "    <tr>\n",
       "      <th>2373</th>\n",
       "      <td>2372</td>\n",
       "      <td>30</td>\n",
       "      <td>2372_tulips_tulip_economists_economic</td>\n",
       "      <td>[tulips, tulip, economists, economic, bulbs, 1...</td>\n",
       "      <td>NaN</td>\n",
       "    </tr>\n",
       "    <tr>\n",
       "      <th>2374</th>\n",
       "      <td>2373</td>\n",
       "      <td>30</td>\n",
       "      <td>2373_squads_squad_roster_players</td>\n",
       "      <td>[squads, squad, roster, players, teams, tourna...</td>\n",
       "      <td>NaN</td>\n",
       "    </tr>\n",
       "    <tr>\n",
       "      <th>2375</th>\n",
       "      <td>2374</td>\n",
       "      <td>30</td>\n",
       "      <td>2374_entrances_subterranean_tunnel_stairs</td>\n",
       "      <td>[entrances, subterranean, tunnel, stairs, pyra...</td>\n",
       "      <td>NaN</td>\n",
       "    </tr>\n",
       "    <tr>\n",
       "      <th>2376</th>\n",
       "      <td>2375</td>\n",
       "      <td>30</td>\n",
       "      <td>2375_transhumanism_transhumanists_transhumanis...</td>\n",
       "      <td>[transhumanism, transhumanists, transhumanist,...</td>\n",
       "      <td>NaN</td>\n",
       "    </tr>\n",
       "  </tbody>\n",
       "</table>\n",
       "<p>2377 rows × 5 columns</p>\n",
       "</div>"
      ],
      "text/plain": [
       "      Topic   Count                                               Name  \\\n",
       "0        -1  633881                           -1_cast_films_film_movie   \n",
       "1         0   18441                     0_goalscorer_scored_goals_goal   \n",
       "2         1    8518                              1_khan_actor_raj_shah   \n",
       "3         2    7521                2_married_divorced_couple_remarried   \n",
       "4         3    6765                       3_cast_actress_starred_actor   \n",
       "...     ...     ...                                                ...   \n",
       "2372   2371      30                  2371_paintings_painting_paint_art   \n",
       "2373   2372      30              2372_tulips_tulip_economists_economic   \n",
       "2374   2373      30                   2373_squads_squad_roster_players   \n",
       "2375   2374      30          2374_entrances_subterranean_tunnel_stairs   \n",
       "2376   2375      30  2375_transhumanism_transhumanists_transhumanis...   \n",
       "\n",
       "                                         Representation  Representative_Docs  \n",
       "0     [cast, films, film, movie, 2020, comedy, relea...                  NaN  \n",
       "1     [goalscorer, scored, goals, goal, goalkeeper, ...                  NaN  \n",
       "2     [khan, actor, raj, shah, crore, hai, actress, ...                  NaN  \n",
       "3     [married, divorced, couple, remarried, engaged...                  NaN  \n",
       "4     [cast, actress, starred, actor, actors, starri...                  NaN  \n",
       "...                                                 ...                  ...  \n",
       "2372  [paintings, painting, paint, art, artist, gall...                  NaN  \n",
       "2373  [tulips, tulip, economists, economic, bulbs, 1...                  NaN  \n",
       "2374  [squads, squad, roster, players, teams, tourna...                  NaN  \n",
       "2375  [entrances, subterranean, tunnel, stairs, pyra...                  NaN  \n",
       "2376  [transhumanism, transhumanists, transhumanist,...                  NaN  \n",
       "\n",
       "[2377 rows x 5 columns]"
      ]
     },
     "execution_count": 93,
     "metadata": {},
     "output_type": "execute_result"
    }
   ],
   "source": [
    "model_topics"
   ]
  },
  {
   "cell_type": "code",
   "execution_count": 95,
   "id": "f6c096c9-b78b-4c30-b90d-d5c6ebf33754",
   "metadata": {},
   "outputs": [],
   "source": [
    "# Taking the numbers of topics that contain our list of keywords\n",
    "political_topic_nums = []\n",
    "for w in keywords:\n",
    "    for i in range(len(model_topics[\"Representation\"])):\n",
    "        if w in model_topics[\"Representation\"][i]:\n",
    "            political_topic_nums.append(i)"
   ]
  },
  {
   "cell_type": "code",
   "execution_count": 96,
   "id": "ebfeefa1-e7dc-468c-81a7-cd21d5ea8c45",
   "metadata": {},
   "outputs": [
    {
     "data": {
      "text/plain": [
       "[10,\n",
       " 56,\n",
       " 74,\n",
       " 75,\n",
       " 125,\n",
       " 243,\n",
       " 272,\n",
       " 320,\n",
       " 359,\n",
       " 391,\n",
       " 556,\n",
       " 608,\n",
       " 718,\n",
       " 876,\n",
       " 1010,\n",
       " 1033,\n",
       " 1068,\n",
       " 1147,\n",
       " 1217,\n",
       " 1259,\n",
       " 1296,\n",
       " 1664,\n",
       " 1879,\n",
       " 1963,\n",
       " 1996,\n",
       " 1997,\n",
       " 2232,\n",
       " 2299,\n",
       " 363,\n",
       " 608,\n",
       " 782,\n",
       " 939,\n",
       " 1147,\n",
       " 1458,\n",
       " 1594,\n",
       " 1681,\n",
       " 1729,\n",
       " 1856,\n",
       " 2123,\n",
       " 2140,\n",
       " 10,\n",
       " 56,\n",
       " 90,\n",
       " 202,\n",
       " 272,\n",
       " 363,\n",
       " 372,\n",
       " 449,\n",
       " 782,\n",
       " 939,\n",
       " 1033,\n",
       " 1147,\n",
       " 1458,\n",
       " 1594,\n",
       " 1681,\n",
       " 1729,\n",
       " 2123,\n",
       " 2140,\n",
       " 74,\n",
       " 359,\n",
       " 1217,\n",
       " 10,\n",
       " 1217,\n",
       " 1879,\n",
       " 286,\n",
       " 503,\n",
       " 1010,\n",
       " 1681,\n",
       " 1856,\n",
       " 235,\n",
       " 523,\n",
       " 745,\n",
       " 1639,\n",
       " 290,\n",
       " 601,\n",
       " 1259,\n",
       " 1318,\n",
       " 1962,\n",
       " 535,\n",
       " 841,\n",
       " 966,\n",
       " 1404,\n",
       " 1998,\n",
       " 2352,\n",
       " 2366,\n",
       " 23,\n",
       " 878,\n",
       " 1179,\n",
       " 543,\n",
       " 590,\n",
       " 714,\n",
       " 957,\n",
       " 261,\n",
       " 455,\n",
       " 674,\n",
       " 1954,\n",
       " 2028,\n",
       " 2040,\n",
       " 2344]"
      ]
     },
     "execution_count": 96,
     "metadata": {},
     "output_type": "execute_result"
    }
   ],
   "source": [
    "political_topic_nums"
   ]
  },
  {
   "cell_type": "code",
   "execution_count": 97,
   "id": "aa483c04-b1ac-4d55-a0f3-757863ca7c8f",
   "metadata": {},
   "outputs": [],
   "source": [
    "# Document needs to be a list to pass into topic modelling model\n",
    "# Create a new json of { state1: [ \"title1, text1\", \"title2, text2\", ... ], state2: [\"title1, text1\", ...]\n",
    "state_to_post = dict()\n",
    "\n",
    "for k in political_posts.keys():\n",
    "    posts = []\n",
    "    for post in political_posts[k]:\n",
    "        post_str = post['title'] + \" \" + post['selftext']\n",
    "        posts.append(post_str)\n",
    "    state_to_post[k] = posts"
   ]
  },
  {
   "cell_type": "code",
   "execution_count": 98,
   "id": "3000e581-89c5-4b89-a6cc-f77d37d885b8",
   "metadata": {},
   "outputs": [
    {
     "data": {
      "application/vnd.jupyter.widget-view+json": {
       "model_id": "7253da2d6e4040eab20d1165797bc2c7",
       "version_major": 2,
       "version_minor": 0
      },
      "text/plain": [
       "Batches:   0%|          | 0/1 [00:00<?, ?it/s]"
      ]
     },
     "metadata": {},
     "output_type": "display_data"
    },
    {
     "name": "stderr",
     "output_type": "stream",
     "text": [
      "2024-11-24 19:16:11,380 - BERTopic - Predicting topic assignments through cosine similarity of topic and document embeddings.\n"
     ]
    },
    {
     "data": {
      "application/vnd.jupyter.widget-view+json": {
       "model_id": "53786ae3a0e045d2926946548892474a",
       "version_major": 2,
       "version_minor": 0
      },
      "text/plain": [
       "Batches:   0%|          | 0/1 [00:00<?, ?it/s]"
      ]
     },
     "metadata": {},
     "output_type": "display_data"
    },
    {
     "name": "stderr",
     "output_type": "stream",
     "text": [
      "2024-11-24 19:16:14,057 - BERTopic - Predicting topic assignments through cosine similarity of topic and document embeddings.\n"
     ]
    },
    {
     "data": {
      "application/vnd.jupyter.widget-view+json": {
       "model_id": "e9794d79769649bebb5cffd70a855fd7",
       "version_major": 2,
       "version_minor": 0
      },
      "text/plain": [
       "Batches:   0%|          | 0/1 [00:00<?, ?it/s]"
      ]
     },
     "metadata": {},
     "output_type": "display_data"
    },
    {
     "name": "stderr",
     "output_type": "stream",
     "text": [
      "2024-11-24 19:16:15,479 - BERTopic - Predicting topic assignments through cosine similarity of topic and document embeddings.\n"
     ]
    },
    {
     "data": {
      "application/vnd.jupyter.widget-view+json": {
       "model_id": "08c16f5ff38c40289011e5782d99bdfe",
       "version_major": 2,
       "version_minor": 0
      },
      "text/plain": [
       "Batches:   0%|          | 0/1 [00:00<?, ?it/s]"
      ]
     },
     "metadata": {},
     "output_type": "display_data"
    },
    {
     "name": "stderr",
     "output_type": "stream",
     "text": [
      "2024-11-24 19:16:15,700 - BERTopic - Predicting topic assignments through cosine similarity of topic and document embeddings.\n"
     ]
    },
    {
     "data": {
      "application/vnd.jupyter.widget-view+json": {
       "model_id": "4a0a370a0fb24e3992946b98872d188b",
       "version_major": 2,
       "version_minor": 0
      },
      "text/plain": [
       "Batches:   0%|          | 0/1 [00:00<?, ?it/s]"
      ]
     },
     "metadata": {},
     "output_type": "display_data"
    },
    {
     "name": "stderr",
     "output_type": "stream",
     "text": [
      "2024-11-24 19:16:15,789 - BERTopic - Predicting topic assignments through cosine similarity of topic and document embeddings.\n"
     ]
    },
    {
     "data": {
      "application/vnd.jupyter.widget-view+json": {
       "model_id": "894cbeaa44974c4a97e502dd631429b3",
       "version_major": 2,
       "version_minor": 0
      },
      "text/plain": [
       "Batches:   0%|          | 0/1 [00:00<?, ?it/s]"
      ]
     },
     "metadata": {},
     "output_type": "display_data"
    },
    {
     "name": "stderr",
     "output_type": "stream",
     "text": [
      "2024-11-24 19:16:19,162 - BERTopic - Predicting topic assignments through cosine similarity of topic and document embeddings.\n"
     ]
    },
    {
     "data": {
      "application/vnd.jupyter.widget-view+json": {
       "model_id": "61714faba11c40c1b2f483fb59f5fe6c",
       "version_major": 2,
       "version_minor": 0
      },
      "text/plain": [
       "Batches:   0%|          | 0/1 [00:00<?, ?it/s]"
      ]
     },
     "metadata": {},
     "output_type": "display_data"
    },
    {
     "name": "stderr",
     "output_type": "stream",
     "text": [
      "2024-11-24 19:16:20,597 - BERTopic - Predicting topic assignments through cosine similarity of topic and document embeddings.\n"
     ]
    },
    {
     "data": {
      "application/vnd.jupyter.widget-view+json": {
       "model_id": "e26aaa5c3927416fbc1555412649a3df",
       "version_major": 2,
       "version_minor": 0
      },
      "text/plain": [
       "Batches:   0%|          | 0/1 [00:00<?, ?it/s]"
      ]
     },
     "metadata": {},
     "output_type": "display_data"
    },
    {
     "name": "stderr",
     "output_type": "stream",
     "text": [
      "2024-11-24 19:16:21,001 - BERTopic - Predicting topic assignments through cosine similarity of topic and document embeddings.\n"
     ]
    },
    {
     "data": {
      "application/vnd.jupyter.widget-view+json": {
       "model_id": "c6251c2361454451951554d100c8fb7a",
       "version_major": 2,
       "version_minor": 0
      },
      "text/plain": [
       "Batches:   0%|          | 0/1 [00:00<?, ?it/s]"
      ]
     },
     "metadata": {},
     "output_type": "display_data"
    },
    {
     "name": "stderr",
     "output_type": "stream",
     "text": [
      "2024-11-24 19:16:21,072 - BERTopic - Predicting topic assignments through cosine similarity of topic and document embeddings.\n"
     ]
    },
    {
     "data": {
      "application/vnd.jupyter.widget-view+json": {
       "model_id": "3d47393e53c2470c82570760488fa50e",
       "version_major": 2,
       "version_minor": 0
      },
      "text/plain": [
       "Batches:   0%|          | 0/1 [00:00<?, ?it/s]"
      ]
     },
     "metadata": {},
     "output_type": "display_data"
    },
    {
     "name": "stderr",
     "output_type": "stream",
     "text": [
      "2024-11-24 19:16:21,330 - BERTopic - Predicting topic assignments through cosine similarity of topic and document embeddings.\n"
     ]
    },
    {
     "data": {
      "application/vnd.jupyter.widget-view+json": {
       "model_id": "b0d1d8024a634f978e338aa5b8080e66",
       "version_major": 2,
       "version_minor": 0
      },
      "text/plain": [
       "Batches:   0%|          | 0/1 [00:00<?, ?it/s]"
      ]
     },
     "metadata": {},
     "output_type": "display_data"
    },
    {
     "name": "stderr",
     "output_type": "stream",
     "text": [
      "2024-11-24 19:16:22,135 - BERTopic - Predicting topic assignments through cosine similarity of topic and document embeddings.\n"
     ]
    },
    {
     "data": {
      "application/vnd.jupyter.widget-view+json": {
       "model_id": "a8f3eca4f0344bd1b98da297a02ff06f",
       "version_major": 2,
       "version_minor": 0
      },
      "text/plain": [
       "Batches:   0%|          | 0/1 [00:00<?, ?it/s]"
      ]
     },
     "metadata": {},
     "output_type": "display_data"
    },
    {
     "name": "stderr",
     "output_type": "stream",
     "text": [
      "2024-11-24 19:16:22,772 - BERTopic - Predicting topic assignments through cosine similarity of topic and document embeddings.\n"
     ]
    },
    {
     "data": {
      "application/vnd.jupyter.widget-view+json": {
       "model_id": "a523e4b8600446ae8fafd825621cebef",
       "version_major": 2,
       "version_minor": 0
      },
      "text/plain": [
       "Batches:   0%|          | 0/1 [00:00<?, ?it/s]"
      ]
     },
     "metadata": {},
     "output_type": "display_data"
    },
    {
     "name": "stderr",
     "output_type": "stream",
     "text": [
      "2024-11-24 19:16:23,085 - BERTopic - Predicting topic assignments through cosine similarity of topic and document embeddings.\n"
     ]
    },
    {
     "data": {
      "application/vnd.jupyter.widget-view+json": {
       "model_id": "24c36c574b824484a85ed203bdf0a34b",
       "version_major": 2,
       "version_minor": 0
      },
      "text/plain": [
       "Batches:   0%|          | 0/1 [00:00<?, ?it/s]"
      ]
     },
     "metadata": {},
     "output_type": "display_data"
    },
    {
     "name": "stderr",
     "output_type": "stream",
     "text": [
      "2024-11-24 19:16:23,274 - BERTopic - Predicting topic assignments through cosine similarity of topic and document embeddings.\n"
     ]
    },
    {
     "data": {
      "application/vnd.jupyter.widget-view+json": {
       "model_id": "b5afa5c1ba294ca89eaf3e19e260ead0",
       "version_major": 2,
       "version_minor": 0
      },
      "text/plain": [
       "Batches:   0%|          | 0/1 [00:00<?, ?it/s]"
      ]
     },
     "metadata": {},
     "output_type": "display_data"
    },
    {
     "name": "stderr",
     "output_type": "stream",
     "text": [
      "2024-11-24 19:16:26,794 - BERTopic - Predicting topic assignments through cosine similarity of topic and document embeddings.\n"
     ]
    },
    {
     "data": {
      "application/vnd.jupyter.widget-view+json": {
       "model_id": "da06b1b86dc94d54a804c9d61b869153",
       "version_major": 2,
       "version_minor": 0
      },
      "text/plain": [
       "Batches:   0%|          | 0/1 [00:00<?, ?it/s]"
      ]
     },
     "metadata": {},
     "output_type": "display_data"
    },
    {
     "name": "stderr",
     "output_type": "stream",
     "text": [
      "2024-11-24 19:16:30,724 - BERTopic - Predicting topic assignments through cosine similarity of topic and document embeddings.\n"
     ]
    },
    {
     "data": {
      "application/vnd.jupyter.widget-view+json": {
       "model_id": "b59f9b25bed340359afc64db4bb587c1",
       "version_major": 2,
       "version_minor": 0
      },
      "text/plain": [
       "Batches:   0%|          | 0/1 [00:00<?, ?it/s]"
      ]
     },
     "metadata": {},
     "output_type": "display_data"
    },
    {
     "name": "stderr",
     "output_type": "stream",
     "text": [
      "2024-11-24 19:16:30,820 - BERTopic - Predicting topic assignments through cosine similarity of topic and document embeddings.\n"
     ]
    },
    {
     "data": {
      "application/vnd.jupyter.widget-view+json": {
       "model_id": "6e3b488b63404fd499e921fb64f3d251",
       "version_major": 2,
       "version_minor": 0
      },
      "text/plain": [
       "Batches:   0%|          | 0/1 [00:00<?, ?it/s]"
      ]
     },
     "metadata": {},
     "output_type": "display_data"
    },
    {
     "name": "stderr",
     "output_type": "stream",
     "text": [
      "2024-11-24 19:16:32,397 - BERTopic - Predicting topic assignments through cosine similarity of topic and document embeddings.\n"
     ]
    },
    {
     "data": {
      "application/vnd.jupyter.widget-view+json": {
       "model_id": "e397636229fa4a9e9a84f5855a4cc4bb",
       "version_major": 2,
       "version_minor": 0
      },
      "text/plain": [
       "Batches:   0%|          | 0/1 [00:00<?, ?it/s]"
      ]
     },
     "metadata": {},
     "output_type": "display_data"
    },
    {
     "name": "stderr",
     "output_type": "stream",
     "text": [
      "2024-11-24 19:16:33,001 - BERTopic - Predicting topic assignments through cosine similarity of topic and document embeddings.\n"
     ]
    },
    {
     "data": {
      "application/vnd.jupyter.widget-view+json": {
       "model_id": "70461f6e26854266a140ce8c1c473167",
       "version_major": 2,
       "version_minor": 0
      },
      "text/plain": [
       "Batches:   0%|          | 0/1 [00:00<?, ?it/s]"
      ]
     },
     "metadata": {},
     "output_type": "display_data"
    },
    {
     "name": "stderr",
     "output_type": "stream",
     "text": [
      "2024-11-24 19:16:33,261 - BERTopic - Predicting topic assignments through cosine similarity of topic and document embeddings.\n"
     ]
    },
    {
     "data": {
      "application/vnd.jupyter.widget-view+json": {
       "model_id": "4def7f4efbbf4fb99db6c986e29dde1a",
       "version_major": 2,
       "version_minor": 0
      },
      "text/plain": [
       "Batches:   0%|          | 0/1 [00:00<?, ?it/s]"
      ]
     },
     "metadata": {},
     "output_type": "display_data"
    },
    {
     "name": "stderr",
     "output_type": "stream",
     "text": [
      "2024-11-24 19:16:34,864 - BERTopic - Predicting topic assignments through cosine similarity of topic and document embeddings.\n"
     ]
    },
    {
     "data": {
      "application/vnd.jupyter.widget-view+json": {
       "model_id": "f105edc3ff904bd79c8c9402c76524a1",
       "version_major": 2,
       "version_minor": 0
      },
      "text/plain": [
       "Batches:   0%|          | 0/1 [00:00<?, ?it/s]"
      ]
     },
     "metadata": {},
     "output_type": "display_data"
    },
    {
     "name": "stderr",
     "output_type": "stream",
     "text": [
      "2024-11-24 19:16:35,114 - BERTopic - Predicting topic assignments through cosine similarity of topic and document embeddings.\n"
     ]
    },
    {
     "data": {
      "application/vnd.jupyter.widget-view+json": {
       "model_id": "692395ffeb7b4a5699f31c83ec780348",
       "version_major": 2,
       "version_minor": 0
      },
      "text/plain": [
       "Batches:   0%|          | 0/1 [00:00<?, ?it/s]"
      ]
     },
     "metadata": {},
     "output_type": "display_data"
    },
    {
     "name": "stderr",
     "output_type": "stream",
     "text": [
      "2024-11-24 19:16:35,296 - BERTopic - Predicting topic assignments through cosine similarity of topic and document embeddings.\n"
     ]
    },
    {
     "data": {
      "application/vnd.jupyter.widget-view+json": {
       "model_id": "7ed6ee87e9c3449baf55663b773dff64",
       "version_major": 2,
       "version_minor": 0
      },
      "text/plain": [
       "Batches:   0%|          | 0/1 [00:00<?, ?it/s]"
      ]
     },
     "metadata": {},
     "output_type": "display_data"
    },
    {
     "name": "stderr",
     "output_type": "stream",
     "text": [
      "2024-11-24 19:16:35,643 - BERTopic - Predicting topic assignments through cosine similarity of topic and document embeddings.\n"
     ]
    },
    {
     "data": {
      "application/vnd.jupyter.widget-view+json": {
       "model_id": "abfff3dfd6fb4cbe84173a599edc5e78",
       "version_major": 2,
       "version_minor": 0
      },
      "text/plain": [
       "Batches:   0%|          | 0/1 [00:00<?, ?it/s]"
      ]
     },
     "metadata": {},
     "output_type": "display_data"
    },
    {
     "name": "stderr",
     "output_type": "stream",
     "text": [
      "2024-11-24 19:16:40,180 - BERTopic - Predicting topic assignments through cosine similarity of topic and document embeddings.\n"
     ]
    },
    {
     "data": {
      "application/vnd.jupyter.widget-view+json": {
       "model_id": "c1cdaeb8e6c247d89025a5a43f7dfa29",
       "version_major": 2,
       "version_minor": 0
      },
      "text/plain": [
       "Batches:   0%|          | 0/1 [00:00<?, ?it/s]"
      ]
     },
     "metadata": {},
     "output_type": "display_data"
    },
    {
     "name": "stderr",
     "output_type": "stream",
     "text": [
      "2024-11-24 19:16:40,498 - BERTopic - Predicting topic assignments through cosine similarity of topic and document embeddings.\n"
     ]
    },
    {
     "data": {
      "application/vnd.jupyter.widget-view+json": {
       "model_id": "b610ed4ddc7c45fe9f67a5e3d99adce3",
       "version_major": 2,
       "version_minor": 0
      },
      "text/plain": [
       "Batches:   0%|          | 0/1 [00:00<?, ?it/s]"
      ]
     },
     "metadata": {},
     "output_type": "display_data"
    },
    {
     "name": "stderr",
     "output_type": "stream",
     "text": [
      "2024-11-24 19:16:41,101 - BERTopic - Predicting topic assignments through cosine similarity of topic and document embeddings.\n"
     ]
    },
    {
     "data": {
      "application/vnd.jupyter.widget-view+json": {
       "model_id": "cbd9239b50ff4c4693f3ba32bb61a9c9",
       "version_major": 2,
       "version_minor": 0
      },
      "text/plain": [
       "Batches:   0%|          | 0/1 [00:00<?, ?it/s]"
      ]
     },
     "metadata": {},
     "output_type": "display_data"
    },
    {
     "name": "stderr",
     "output_type": "stream",
     "text": [
      "2024-11-24 19:16:41,285 - BERTopic - Predicting topic assignments through cosine similarity of topic and document embeddings.\n"
     ]
    },
    {
     "data": {
      "application/vnd.jupyter.widget-view+json": {
       "model_id": "39e90934285943bcb83b72d9d3a69381",
       "version_major": 2,
       "version_minor": 0
      },
      "text/plain": [
       "Batches:   0%|          | 0/1 [00:00<?, ?it/s]"
      ]
     },
     "metadata": {},
     "output_type": "display_data"
    },
    {
     "name": "stderr",
     "output_type": "stream",
     "text": [
      "2024-11-24 19:16:43,414 - BERTopic - Predicting topic assignments through cosine similarity of topic and document embeddings.\n"
     ]
    },
    {
     "data": {
      "application/vnd.jupyter.widget-view+json": {
       "model_id": "277047718d124773beab97ecbffda957",
       "version_major": 2,
       "version_minor": 0
      },
      "text/plain": [
       "Batches:   0%|          | 0/1 [00:00<?, ?it/s]"
      ]
     },
     "metadata": {},
     "output_type": "display_data"
    },
    {
     "name": "stderr",
     "output_type": "stream",
     "text": [
      "2024-11-24 19:16:43,551 - BERTopic - Predicting topic assignments through cosine similarity of topic and document embeddings.\n"
     ]
    },
    {
     "data": {
      "application/vnd.jupyter.widget-view+json": {
       "model_id": "4212333cc68f430f91ef901c1cfb6b1a",
       "version_major": 2,
       "version_minor": 0
      },
      "text/plain": [
       "Batches:   0%|          | 0/1 [00:00<?, ?it/s]"
      ]
     },
     "metadata": {},
     "output_type": "display_data"
    },
    {
     "name": "stderr",
     "output_type": "stream",
     "text": [
      "2024-11-24 19:16:43,996 - BERTopic - Predicting topic assignments through cosine similarity of topic and document embeddings.\n"
     ]
    },
    {
     "data": {
      "application/vnd.jupyter.widget-view+json": {
       "model_id": "d93572a31c6b45aaa5faa104199da77d",
       "version_major": 2,
       "version_minor": 0
      },
      "text/plain": [
       "Batches:   0%|          | 0/1 [00:00<?, ?it/s]"
      ]
     },
     "metadata": {},
     "output_type": "display_data"
    },
    {
     "name": "stderr",
     "output_type": "stream",
     "text": [
      "2024-11-24 19:16:44,240 - BERTopic - Predicting topic assignments through cosine similarity of topic and document embeddings.\n"
     ]
    },
    {
     "data": {
      "application/vnd.jupyter.widget-view+json": {
       "model_id": "ab80e1a751a2405a9164a1207c225c5d",
       "version_major": 2,
       "version_minor": 0
      },
      "text/plain": [
       "Batches:   0%|          | 0/1 [00:00<?, ?it/s]"
      ]
     },
     "metadata": {},
     "output_type": "display_data"
    },
    {
     "name": "stderr",
     "output_type": "stream",
     "text": [
      "2024-11-24 19:16:44,580 - BERTopic - Predicting topic assignments through cosine similarity of topic and document embeddings.\n"
     ]
    },
    {
     "data": {
      "application/vnd.jupyter.widget-view+json": {
       "model_id": "cd69f2342f4e4ec3883f09f88cce3da2",
       "version_major": 2,
       "version_minor": 0
      },
      "text/plain": [
       "Batches:   0%|          | 0/1 [00:00<?, ?it/s]"
      ]
     },
     "metadata": {},
     "output_type": "display_data"
    },
    {
     "name": "stderr",
     "output_type": "stream",
     "text": [
      "2024-11-24 19:16:44,684 - BERTopic - Predicting topic assignments through cosine similarity of topic and document embeddings.\n"
     ]
    },
    {
     "data": {
      "application/vnd.jupyter.widget-view+json": {
       "model_id": "adac27c4d78545d9bf02aa6395a3ffc9",
       "version_major": 2,
       "version_minor": 0
      },
      "text/plain": [
       "Batches:   0%|          | 0/1 [00:00<?, ?it/s]"
      ]
     },
     "metadata": {},
     "output_type": "display_data"
    },
    {
     "name": "stderr",
     "output_type": "stream",
     "text": [
      "2024-11-24 19:16:45,394 - BERTopic - Predicting topic assignments through cosine similarity of topic and document embeddings.\n"
     ]
    },
    {
     "data": {
      "application/vnd.jupyter.widget-view+json": {
       "model_id": "9e386bb6eac04f0f840b095a02253129",
       "version_major": 2,
       "version_minor": 0
      },
      "text/plain": [
       "Batches:   0%|          | 0/1 [00:00<?, ?it/s]"
      ]
     },
     "metadata": {},
     "output_type": "display_data"
    },
    {
     "name": "stderr",
     "output_type": "stream",
     "text": [
      "2024-11-24 19:16:47,458 - BERTopic - Predicting topic assignments through cosine similarity of topic and document embeddings.\n"
     ]
    },
    {
     "data": {
      "application/vnd.jupyter.widget-view+json": {
       "model_id": "efbaefc179c64e06bac8875e56078b31",
       "version_major": 2,
       "version_minor": 0
      },
      "text/plain": [
       "Batches:   0%|          | 0/1 [00:00<?, ?it/s]"
      ]
     },
     "metadata": {},
     "output_type": "display_data"
    },
    {
     "name": "stderr",
     "output_type": "stream",
     "text": [
      "2024-11-24 19:16:48,154 - BERTopic - Predicting topic assignments through cosine similarity of topic and document embeddings.\n"
     ]
    },
    {
     "data": {
      "application/vnd.jupyter.widget-view+json": {
       "model_id": "1f63ca55ad904c2cb0843450d8a5772b",
       "version_major": 2,
       "version_minor": 0
      },
      "text/plain": [
       "Batches:   0%|          | 0/1 [00:00<?, ?it/s]"
      ]
     },
     "metadata": {},
     "output_type": "display_data"
    },
    {
     "name": "stderr",
     "output_type": "stream",
     "text": [
      "2024-11-24 19:16:49,988 - BERTopic - Predicting topic assignments through cosine similarity of topic and document embeddings.\n"
     ]
    },
    {
     "data": {
      "application/vnd.jupyter.widget-view+json": {
       "model_id": "074cccf33d80417c80cc179197f4bbd4",
       "version_major": 2,
       "version_minor": 0
      },
      "text/plain": [
       "Batches:   0%|          | 0/1 [00:00<?, ?it/s]"
      ]
     },
     "metadata": {},
     "output_type": "display_data"
    },
    {
     "name": "stderr",
     "output_type": "stream",
     "text": [
      "2024-11-24 19:16:50,334 - BERTopic - Predicting topic assignments through cosine similarity of topic and document embeddings.\n"
     ]
    },
    {
     "data": {
      "application/vnd.jupyter.widget-view+json": {
       "model_id": "c3f10cc8530f48c69b84b290730b65aa",
       "version_major": 2,
       "version_minor": 0
      },
      "text/plain": [
       "Batches:   0%|          | 0/1 [00:00<?, ?it/s]"
      ]
     },
     "metadata": {},
     "output_type": "display_data"
    },
    {
     "name": "stderr",
     "output_type": "stream",
     "text": [
      "2024-11-24 19:16:51,135 - BERTopic - Predicting topic assignments through cosine similarity of topic and document embeddings.\n"
     ]
    },
    {
     "data": {
      "application/vnd.jupyter.widget-view+json": {
       "model_id": "bdde3c602fc34785999f891005a83140",
       "version_major": 2,
       "version_minor": 0
      },
      "text/plain": [
       "Batches:   0%|          | 0/1 [00:00<?, ?it/s]"
      ]
     },
     "metadata": {},
     "output_type": "display_data"
    },
    {
     "name": "stderr",
     "output_type": "stream",
     "text": [
      "2024-11-24 19:16:51,796 - BERTopic - Predicting topic assignments through cosine similarity of topic and document embeddings.\n"
     ]
    },
    {
     "data": {
      "application/vnd.jupyter.widget-view+json": {
       "model_id": "4b58b47f48ff4e1097b71347eb237544",
       "version_major": 2,
       "version_minor": 0
      },
      "text/plain": [
       "Batches:   0%|          | 0/1 [00:00<?, ?it/s]"
      ]
     },
     "metadata": {},
     "output_type": "display_data"
    },
    {
     "name": "stderr",
     "output_type": "stream",
     "text": [
      "2024-11-24 19:16:52,602 - BERTopic - Predicting topic assignments through cosine similarity of topic and document embeddings.\n"
     ]
    },
    {
     "data": {
      "application/vnd.jupyter.widget-view+json": {
       "model_id": "00e8d4f6c30b440fa19c6a6410874879",
       "version_major": 2,
       "version_minor": 0
      },
      "text/plain": [
       "Batches:   0%|          | 0/1 [00:00<?, ?it/s]"
      ]
     },
     "metadata": {},
     "output_type": "display_data"
    },
    {
     "name": "stderr",
     "output_type": "stream",
     "text": [
      "2024-11-24 19:16:53,217 - BERTopic - Predicting topic assignments through cosine similarity of topic and document embeddings.\n"
     ]
    },
    {
     "data": {
      "application/vnd.jupyter.widget-view+json": {
       "model_id": "91582da7df3b4c8b911ad3d087c6cc6b",
       "version_major": 2,
       "version_minor": 0
      },
      "text/plain": [
       "Batches:   0%|          | 0/1 [00:00<?, ?it/s]"
      ]
     },
     "metadata": {},
     "output_type": "display_data"
    },
    {
     "name": "stderr",
     "output_type": "stream",
     "text": [
      "2024-11-24 19:16:53,755 - BERTopic - Predicting topic assignments through cosine similarity of topic and document embeddings.\n"
     ]
    },
    {
     "data": {
      "application/vnd.jupyter.widget-view+json": {
       "model_id": "fc9c217d4d144fe6b89c2cf38ff72ecc",
       "version_major": 2,
       "version_minor": 0
      },
      "text/plain": [
       "Batches:   0%|          | 0/2 [00:00<?, ?it/s]"
      ]
     },
     "metadata": {},
     "output_type": "display_data"
    },
    {
     "name": "stderr",
     "output_type": "stream",
     "text": [
      "2024-11-24 19:16:57,285 - BERTopic - Predicting topic assignments through cosine similarity of topic and document embeddings.\n"
     ]
    },
    {
     "data": {
      "application/vnd.jupyter.widget-view+json": {
       "model_id": "dd87e1336e5540ff9115e64636bc3918",
       "version_major": 2,
       "version_minor": 0
      },
      "text/plain": [
       "Batches:   0%|          | 0/1 [00:00<?, ?it/s]"
      ]
     },
     "metadata": {},
     "output_type": "display_data"
    },
    {
     "name": "stderr",
     "output_type": "stream",
     "text": [
      "2024-11-24 19:16:57,925 - BERTopic - Predicting topic assignments through cosine similarity of topic and document embeddings.\n"
     ]
    },
    {
     "data": {
      "application/vnd.jupyter.widget-view+json": {
       "model_id": "ef76bad7c5be4a5199c6f119558eab81",
       "version_major": 2,
       "version_minor": 0
      },
      "text/plain": [
       "Batches:   0%|          | 0/1 [00:00<?, ?it/s]"
      ]
     },
     "metadata": {},
     "output_type": "display_data"
    },
    {
     "name": "stderr",
     "output_type": "stream",
     "text": [
      "2024-11-24 19:16:59,724 - BERTopic - Predicting topic assignments through cosine similarity of topic and document embeddings.\n"
     ]
    }
   ],
   "source": [
    "state_to_topic = dict()\n",
    "\n",
    "for k in state_to_post.keys():\n",
    "    if len(state_to_post[k]) != 0:\n",
    "        post_topics, post_probs = topic_model.transform(state_to_post[k])\n",
    "        state_to_topic[k] = {\n",
    "            'topics': post_topics,\n",
    "            'probabilities': post_probs\n",
    "        }"
   ]
  },
  {
   "cell_type": "code",
   "execution_count": 99,
   "id": "37d1577c-6db1-4e66-a2a5-a050d51fb410",
   "metadata": {},
   "outputs": [
    {
     "data": {
      "text/plain": [
       "{'texas': {'topics': array([1889,   65, 1889, 1272, 1889,  234,  234,  234, 1501, 2297,  251]),\n",
       "  'probabilities': array([0.3581864 , 0.3898025 , 0.39754048, 0.33664972, 0.3568266 ,\n",
       "         0.5804087 , 0.5804087 , 0.43511474, 0.39582056, 0.37019277,\n",
       "         0.38129365], dtype=float32)},\n",
       " 'california': {'topics': array([ 308,  308,  308,  673,    9,    9,    9,  542,  542,   20,    9,\n",
       "            9,    9,    9, 1239,  481]),\n",
       "  'probabilities': array([0.37759215, 0.37759215, 0.37759215, 0.6793472 , 0.49634874,\n",
       "         0.49634874, 0.49634874, 0.6666453 , 0.6666453 , 0.44082233,\n",
       "         0.39934936, 0.39934936, 0.39934936, 0.39934936, 0.43308628,\n",
       "         0.59780335], dtype=float32)},\n",
       " 'michigan': {'topics': array([ 260,  260, 1213,  461, 1615,  542]),\n",
       "  'probabilities': array([0.4505028 , 0.4505028 , 0.41623247, 0.45489872, 0.3821689 ,\n",
       "         0.41819587], dtype=float32)},\n",
       " 'minnesota': {'topics': array([313, 436,  22]),\n",
       "  'probabilities': array([0.4170059 , 0.3053832 , 0.31694606], dtype=float32)},\n",
       " 'colorado': {'topics': array([9]),\n",
       "  'probabilities': array([0.42447263], dtype=float32)},\n",
       " 'wisconsin': {'topics': array([726, 726, 726, 770, 770, 770,  81,   9,   9,   9, 285, 285, 285,\n",
       "         615,   9, 171,  66]),\n",
       "  'probabilities': array([0.6723514 , 0.6723514 , 0.6723514 , 0.50814164, 0.50814164,\n",
       "         0.50814164, 0.34986448, 0.43974257, 0.43974257, 0.43974257,\n",
       "         0.50689435, 0.50689435, 0.50689435, 0.32239306, 0.47452837,\n",
       "         0.36719084, 0.28068623], dtype=float32)},\n",
       " 'florida': {'topics': array([1539,  271,  271,  960, 2140]),\n",
       "  'probabilities': array([0.51721954, 0.34675372, 0.34385204, 0.39405838, 0.47158602],\n",
       "        dtype=float32)},\n",
       " 'connecticut': {'topics': array([ 622,  622,  622,  875,  875,  589, 1049]),\n",
       "  'probabilities': array([0.36085767, 0.36085767, 0.36085767, 0.4093138 , 0.4093138 ,\n",
       "         0.5329325 , 0.4205263 ], dtype=float32)},\n",
       " 'oregon': {'topics': array([851]),\n",
       "  'probabilities': array([0.35824457], dtype=float32)},\n",
       " 'ohio': {'topics': array([1370,    9, 1239, 1239]),\n",
       "  'probabilities': array([0.3839497 , 0.34234732, 0.6269493 , 0.6269493 ], dtype=float32)},\n",
       " 'northcarolina': {'topics': array([   9,    9,  589,    9,    9,    9,  542,  542,    9, 1213,  542,\n",
       "          542,  542,    9,    9, 2312]),\n",
       "  'probabilities': array([0.4787423 , 0.3822245 , 0.49975592, 0.43024597, 0.43024597,\n",
       "         0.43024597, 0.39940304, 0.39940304, 0.445988  , 0.40880394,\n",
       "         0.44865096, 0.44865096, 0.44865096, 0.38892388, 0.38892388,\n",
       "         0.4019493 ], dtype=float32)},\n",
       " 'oklahoma': {'topics': array([ 114,  480,  480,    9,  917,    9, 1213, 2097,  830, 2270,  451,\n",
       "          533]),\n",
       "  'probabilities': array([0.51299316, 0.44936872, 0.44936872, 0.37969357, 0.40231243,\n",
       "         0.33127764, 0.33871108, 0.43423814, 0.4064579 , 0.42405835,\n",
       "         0.4102937 , 0.46651793], dtype=float32)},\n",
       " 'maryland': {'topics': array([1357, 1854,    9,  956, 1194]),\n",
       "  'probabilities': array([0.3957715 , 0.47808847, 0.3510213 , 0.34898746, 0.4423466 ],\n",
       "        dtype=float32)},\n",
       " 'arizona': {'topics': array([257, 505, 505]),\n",
       "  'probabilities': array([0.3903245 , 0.40109825, 0.40109825], dtype=float32)},\n",
       " 'virginia': {'topics': array([1480,    9, 1889, 2187, 1889,  238,    9,    9,    9,    9,    9,\n",
       "          875,  875,  965,  965,  965]),\n",
       "  'probabilities': array([0.36191547, 0.49175066, 0.46093667, 0.33902255, 0.37063217,\n",
       "         0.3725991 , 0.538269  , 0.538269  , 0.538269  , 0.538269  ,\n",
       "         0.538269  , 0.5198106 , 0.5198106 , 0.40717077, 0.40717077,\n",
       "         0.40717077], dtype=float32)},\n",
       " 'maine': {'topics': array([   9,    9,  401,  791,  791,  791,  791,  791,  424,  424, 1300,\n",
       "         1213, 1824,  424]),\n",
       "  'probabilities': array([0.3580437 , 0.3580437 , 0.4052534 , 0.47005826, 0.47005826,\n",
       "         0.47005826, 0.47005826, 0.47005826, 0.42602462, 0.42602462,\n",
       "         0.4511706 , 0.48828688, 0.375156  , 0.38565752], dtype=float32)},\n",
       " 'indiana': {'topics': array([   9,    9, 1272,    9]),\n",
       "  'probabilities': array([0.33990473, 0.33990473, 0.44432676, 0.3819639 ], dtype=float32)},\n",
       " 'iowa': {'topics': array([1680, 1680, 1680,    9,    9,  285,  285,  296, 2206, 1272,  589]),\n",
       "  'probabilities': array([0.34948137, 0.34948137, 0.34948137, 0.43962845, 0.43962845,\n",
       "         0.5273669 , 0.5273669 , 0.5331259 , 0.41439122, 0.40128088,\n",
       "         0.58088017], dtype=float32)},\n",
       " 'washington': {'topics': array([   9,  114,  114,  114, 1216, 1216, 1216, 1546,  542,  266, 1822,\n",
       "          495]),\n",
       "  'probabilities': array([0.41339093, 0.3447457 , 0.3447457 , 0.3447457 , 0.49986872,\n",
       "         0.49986872, 0.49986872, 0.3997367 , 0.36949596, 0.65483034,\n",
       "         0.33787835, 0.3516096 ], dtype=float32)},\n",
       " 'newhampshire': {'topics': array([1446, 1446, 1194, 1136]),\n",
       "  'probabilities': array([0.4191046 , 0.4191046 , 0.3294588 , 0.31317067], dtype=float32)},\n",
       " 'alaska': {'topics': array([1889,   66,  308,    9,    9, 1213,  234, 1663,   73, 1194,    9,\n",
       "          583,    9,    9]),\n",
       "  'probabilities': array([0.40441865, 0.30263984, 0.5108042 , 0.4939186 , 0.42890674,\n",
       "         0.38985002, 0.33633626, 0.3866307 , 0.4006964 , 0.5512137 ,\n",
       "         0.39143798, 0.44611776, 0.40020767, 0.40020767], dtype=float32)},\n",
       " 'louisiana': {'topics': array([1712,  436,  436]),\n",
       "  'probabilities': array([0.35896143, 0.45370936, 0.45370936], dtype=float32)},\n",
       " 'massachusetts': {'topics': array([1792, 1272, 1680]),\n",
       "  'probabilities': array([0.34389356, 0.35920346, 0.4701233 ], dtype=float32)},\n",
       " 'vermont': {'topics': array([  73, 1194]),\n",
       "  'probabilities': array([0.4256435 , 0.40929097], dtype=float32)},\n",
       " 'newyork': {'topics': array([ 171,    9,    9,  368,    9,  234,  234, 2023,  402,  402,  402,\n",
       "         1049,  298,  298, 1844, 1239, 1239, 1213, 1413,    9, 1213, 1213,\n",
       "         1213, 1213]),\n",
       "  'probabilities': array([0.325899  , 0.5128206 , 0.5128206 , 0.39755213, 0.39482057,\n",
       "         0.6046109 , 0.6046109 , 0.47240064, 0.4064399 , 0.4064399 ,\n",
       "         0.4064399 , 0.4855569 , 0.33063573, 0.33063573, 0.39536983,\n",
       "         0.4231763 , 0.4231763 , 0.2798318 , 0.38298798, 0.37893283,\n",
       "         0.40834114, 0.40834114, 0.40834114, 0.40834114], dtype=float32)},\n",
       " 'arkansas': {'topics': array([1238, 1238, 1244,  825,  825,  825]),\n",
       "  'probabilities': array([0.495933  , 0.495933  , 0.39482045, 0.34802485, 0.34802485,\n",
       "         0.34802485], dtype=float32)},\n",
       " 'pennsylvania': {'topics': array([ 461, 1194, 1194, 1194, 1194, 1194,    9,    9, 1213, 1213,  114,\n",
       "         1239]),\n",
       "  'probabilities': array([0.54027516, 0.32995638, 0.32995638, 0.32995638, 0.32995638,\n",
       "         0.32995638, 0.4335122 , 0.4335122 , 0.3818736 , 0.3818736 ,\n",
       "         0.4829584 , 0.4033741 ], dtype=float32)},\n",
       " 'alabama': {'topics': array([1272, 1360]),\n",
       "  'probabilities': array([0.4697625, 0.5016178], dtype=float32)},\n",
       " 'kentucky': {'topics': array([ 234,    9,  533, 1703, 1889,    9, 1136]),\n",
       "  'probabilities': array([0.6699451 , 0.48894554, 0.37611642, 0.3831035 , 0.4246846 ,\n",
       "         0.4174749 , 0.39634413], dtype=float32)},\n",
       " 'southcarolina': {'topics': array([622]),\n",
       "  'probabilities': array([0.31094387], dtype=float32)},\n",
       " 'georgia': {'topics': array([ 589,  589,  938, 1912, 1912,  956, 1547,    9]),\n",
       "  'probabilities': array([0.35160512, 0.35160512, 0.500089  , 0.30256993, 0.30256993,\n",
       "         0.38988662, 0.47386682, 0.38994944], dtype=float32)},\n",
       " 'delaware': {'topics': array([858,  81]),\n",
       "  'probabilities': array([0.41915143, 0.37088394], dtype=float32)},\n",
       " 'utah': {'topics': array([   9,    9,    9,    9, 1525, 1525]),\n",
       "  'probabilities': array([0.48962197, 0.48962197, 0.48962197, 0.4226257 , 0.32855856,\n",
       "         0.32855856], dtype=float32)},\n",
       " 'rhodeisland': {'topics': array([903]),\n",
       "  'probabilities': array([0.53065825], dtype=float32)},\n",
       " 'missouri': {'topics': array([1537,  234,  234,  234,  687,  114,  402,    9,  454, 2313, 2313,\n",
       "         2313, 2313, 2313]),\n",
       "  'probabilities': array([0.29989573, 0.5012063 , 0.5012063 , 0.5012063 , 0.4922307 ,\n",
       "         0.5022812 , 0.42077726, 0.4632256 , 0.507585  , 0.4857446 ,\n",
       "         0.4857446 , 0.4857446 , 0.4857446 , 0.4857446 ], dtype=float32)},\n",
       " 'tennessee': {'topics': array([1933,  589, 1889,    9,    9, 1525, 1525, 1525,  439,  439, 1213,\n",
       "         1213]),\n",
       "  'probabilities': array([0.38222027, 0.47969782, 0.402189  , 0.4460554 , 0.4460554 ,\n",
       "         0.41323245, 0.41323245, 0.41323245, 0.25198978, 0.25198978,\n",
       "         0.35353985, 0.35353985], dtype=float32)},\n",
       " 'nebraska': {'topics': array([2070,  424,  723, 1127,   20,  700, 1213, 1213, 1213, 1213, 1213,\n",
       "         1213, 1213]),\n",
       "  'probabilities': array([0.37289286, 0.42005974, 0.4035144 , 0.53034997, 0.44701838,\n",
       "         0.4315011 , 0.58876103, 0.58876103, 0.58876103, 0.58876103,\n",
       "         0.58876103, 0.58876103, 0.58876103], dtype=float32)},\n",
       " 'illinois': {'topics': array([ 234,    9,    9,    9,    9,    9,    9,    9, 1113, 1113,  171,\n",
       "          248, 1032,    9,    9,    9,    9,  424]),\n",
       "  'probabilities': array([0.5931345 , 0.54408467, 0.54408467, 0.54408467, 0.54408467,\n",
       "         0.38450664, 0.38450664, 0.38450664, 0.3545698 , 0.3545698 ,\n",
       "         0.3164887 , 0.43097216, 0.36596507, 0.49126172, 0.49126172,\n",
       "         0.49126172, 0.49126172, 0.3930269 ], dtype=float32)},\n",
       " 'westvirginia': {'topics': array([2070, 1538,  415]),\n",
       "  'probabilities': array([0.47071433, 0.5513009 , 0.36662862], dtype=float32)},\n",
       " 'newmexico': {'topics': array([1070,  875,  875,  875,  622,  473,   22]),\n",
       "  'probabilities': array([0.36083716, 0.5312637 , 0.5312637 , 0.5312637 , 0.38261136,\n",
       "         0.40756643, 0.58560336], dtype=float32)},\n",
       " 'mississippi': {'topics': array([ 533,  770,  194,  194,  194,    9,   89,   89, 1525, 1525, 1525,\n",
       "         1525,  687]),\n",
       "  'probabilities': array([0.4733386 , 0.46439344, 0.3712733 , 0.3712733 , 0.3712733 ,\n",
       "         0.3778885 , 0.4280597 , 0.4280597 , 0.42318526, 0.42318526,\n",
       "         0.42318526, 0.42318526, 0.4464404 ], dtype=float32)},\n",
       " 'kansas': {'topics': array([ 403,    9,    9,    9,  271,  965,  965,  965, 1962, 1962, 1962,\n",
       "         1962,  308, 2187,  114]),\n",
       "  'probabilities': array([0.43383062, 0.3511877 , 0.3511877 , 0.3511877 , 0.36933434,\n",
       "         0.479797  , 0.479797  , 0.479797  , 0.46967548, 0.46967548,\n",
       "         0.46967548, 0.46967548, 0.52692294, 0.30598512, 0.50010115],\n",
       "        dtype=float32)},\n",
       " 'northdakota': {'topics': array([608,  89, 589, 589, 589, 589,   9,   9,   9,   9,   9,   9]),\n",
       "  'probabilities': array([0.40085053, 0.37279803, 0.49617562, 0.49617562, 0.49617562,\n",
       "         0.49617562, 0.5117096 , 0.5117096 , 0.44193792, 0.44193792,\n",
       "         0.44193792, 0.44193792], dtype=float32)},\n",
       " 'idaho': {'topics': array([   9,    9,  314,  830,  234, 1942, 1942, 1889, 1213, 1213]),\n",
       "  'probabilities': array([0.46481556, 0.46481556, 0.5499637 , 0.45845485, 0.5530728 ,\n",
       "         0.42236185, 0.42236185, 0.30262768, 0.3933643 , 0.3933643 ],\n",
       "        dtype=float32)},\n",
       " 'southdakota': {'topics': array([ 542,  542, 1727,    9,    9,  260,  260, 1942,  285, 1213, 1172,\n",
       "         1172, 2331, 2331, 2331, 2331, 2331, 2331,  234,  234,  234,  234,\n",
       "          234,  234,  234,  234,    9,    9,    9,    9,  956,  918,  234,\n",
       "            9,    9, 2023, 1194,    9, 1962, 1962, 1962, 1962, 1962, 1962,\n",
       "         1962,  234]),\n",
       "  'probabilities': array([0.6512569 , 0.6512569 , 0.385269  , 0.48966736, 0.48966736,\n",
       "         0.40835464, 0.40835464, 0.40277976, 0.44681847, 0.28859872,\n",
       "         0.566331  , 0.566331  , 0.34780788, 0.34780788, 0.34780788,\n",
       "         0.34780788, 0.34780788, 0.34780788, 0.6005374 , 0.6005374 ,\n",
       "         0.6005374 , 0.6005374 , 0.6005374 , 0.6005374 , 0.6005374 ,\n",
       "         0.6005374 , 0.48062605, 0.48062605, 0.48062605, 0.48062605,\n",
       "         0.31969088, 0.52022064, 0.54514325, 0.40567297, 0.40567297,\n",
       "         0.47240075, 0.4424438 , 0.44732386, 0.43959463, 0.43959463,\n",
       "         0.43959463, 0.43959463, 0.43959463, 0.43959463, 0.43959463,\n",
       "         0.46700397], dtype=float32)},\n",
       " 'wyoming': {'topics': array([234, 114, 234, 171, 234, 956]),\n",
       "  'probabilities': array([0.6829475 , 0.4440565 , 0.60825455, 0.44969624, 0.64704543,\n",
       "         0.41486   ], dtype=float32)},\n",
       " 'nevada': {'topics': array([   9,    9,    9,    9,    9, 1213,  289,    9, 1962]),\n",
       "  'probabilities': array([0.44628328, 0.44628328, 0.46253628, 0.46253628, 0.46253628,\n",
       "         0.36621058, 0.41603988, 0.43142915, 0.4312636 ], dtype=float32)}}"
      ]
     },
     "execution_count": 99,
     "metadata": {},
     "output_type": "execute_result"
    }
   ],
   "source": [
    "state_to_topic"
   ]
  },
  {
   "cell_type": "code",
   "execution_count": 100,
   "id": "9896b2cb-4d9e-4677-9bf5-ac050ab52463",
   "metadata": {},
   "outputs": [],
   "source": [
    "political_posts_modeled = dict()\n",
    "\n",
    "for k in state_to_topic.keys():\n",
    "    indices = []\n",
    "    state = state_to_topic[k]\n",
    "    state_topics = state['topics']\n",
    "    state_probs = state['probabilities']\n",
    "\n",
    "    for i in range(len(state_topics)):\n",
    "        if state_topics[i] in political_topic_nums and state_probs[i] >= 0.5:\n",
    "            indices.append(i)\n",
    "    political_posts_modeled[k] = indices"
   ]
  },
  {
   "cell_type": "code",
   "execution_count": 101,
   "id": "4fb18932-1d32-4fa6-8ca2-40663678114f",
   "metadata": {},
   "outputs": [
    {
     "data": {
      "text/plain": [
       "{'texas': [],\n",
       " 'california': [],\n",
       " 'michigan': [],\n",
       " 'minnesota': [],\n",
       " 'colorado': [],\n",
       " 'wisconsin': [],\n",
       " 'florida': [],\n",
       " 'connecticut': [],\n",
       " 'oregon': [],\n",
       " 'ohio': [],\n",
       " 'northcarolina': [],\n",
       " 'oklahoma': [],\n",
       " 'maryland': [],\n",
       " 'arizona': [],\n",
       " 'virginia': [],\n",
       " 'maine': [],\n",
       " 'indiana': [],\n",
       " 'iowa': [],\n",
       " 'washington': [],\n",
       " 'newhampshire': [],\n",
       " 'alaska': [],\n",
       " 'louisiana': [],\n",
       " 'massachusetts': [],\n",
       " 'vermont': [],\n",
       " 'newyork': [],\n",
       " 'arkansas': [],\n",
       " 'pennsylvania': [],\n",
       " 'alabama': [],\n",
       " 'kentucky': [],\n",
       " 'southcarolina': [],\n",
       " 'georgia': [],\n",
       " 'delaware': [],\n",
       " 'utah': [],\n",
       " 'rhodeisland': [],\n",
       " 'missouri': [],\n",
       " 'tennessee': [],\n",
       " 'nebraska': [],\n",
       " 'illinois': [],\n",
       " 'westvirginia': [],\n",
       " 'newmexico': [],\n",
       " 'mississippi': [],\n",
       " 'kansas': [],\n",
       " 'northdakota': [],\n",
       " 'idaho': [],\n",
       " 'southdakota': [],\n",
       " 'wyoming': [],\n",
       " 'nevada': []}"
      ]
     },
     "execution_count": 101,
     "metadata": {},
     "output_type": "execute_result"
    }
   ],
   "source": [
    "political_posts_modeled"
   ]
  },
  {
   "cell_type": "code",
   "execution_count": 102,
   "id": "ff077ff7-79a8-4681-9b0a-cb735a3af526",
   "metadata": {},
   "outputs": [],
   "source": [
    "# sentiment analysis\n",
    "from transformers import AutoModelForSequenceClassification\n",
    "from transformers import TFAutoModelForSequenceClassification\n",
    "from transformers import AutoTokenizer, AutoConfig\n",
    "import numpy as np\n",
    "from scipy.special import softmax"
   ]
  },
  {
   "cell_type": "code",
   "execution_count": 103,
   "id": "f8fafc40-1503-4031-afe8-d3e271c9c7b9",
   "metadata": {},
   "outputs": [],
   "source": [
    "MODEL = \"cardiffnlp/twitter-roberta-base-sentiment-latest\"\n",
    "tokenizer = AutoTokenizer.from_pretrained(MODEL)\n",
    "config = AutoConfig.from_pretrained(MODEL)"
   ]
  },
  {
   "cell_type": "code",
   "execution_count": 104,
   "id": "0bd4650f-9c5e-433d-b03f-873881a2a663",
   "metadata": {},
   "outputs": [
    {
     "name": "stderr",
     "output_type": "stream",
     "text": [
      "Some weights of the model checkpoint at cardiffnlp/twitter-roberta-base-sentiment-latest were not used when initializing RobertaForSequenceClassification: ['roberta.pooler.dense.bias', 'roberta.pooler.dense.weight']\n",
      "- This IS expected if you are initializing RobertaForSequenceClassification from the checkpoint of a model trained on another task or with another architecture (e.g. initializing a BertForSequenceClassification model from a BertForPreTraining model).\n",
      "- This IS NOT expected if you are initializing RobertaForSequenceClassification from the checkpoint of a model that you expect to be exactly identical (initializing a BertForSequenceClassification model from a BertForSequenceClassification model).\n"
     ]
    }
   ],
   "source": [
    "model = AutoModelForSequenceClassification.from_pretrained(MODEL)"
   ]
  },
  {
   "cell_type": "code",
   "execution_count": 105,
   "id": "49c162ce-7ec9-4ecb-aef7-19846892f7de",
   "metadata": {},
   "outputs": [
    {
     "name": "stdout",
     "output_type": "stream",
     "text": [
      "[2 1 0]\n",
      "{0: 'negative', 1: 'neutral', 2: 'positive'}\n",
      "1) positive 0.9749\n",
      "2) neutral 0.0208\n",
      "3) negative 0.0043\n"
     ]
    }
   ],
   "source": [
    "## TEST - must use PyTorch version, the tensorflow one is not as accurate\n",
    "text = \"I love you!\"\n",
    "encoded_input = tokenizer(text, return_tensors='pt')\n",
    "output = model(**encoded_input)\n",
    "\n",
    "scores = output[0][0].detach().numpy()\n",
    "scores = softmax(scores)\n",
    "\n",
    "ranking = np.argsort(scores)\n",
    "ranking = ranking[::-1]\n",
    "print(ranking)\n",
    "print(config.id2label)\n",
    "\n",
    "for i in range(scores.shape[0]):\n",
    "    l = config.id2label[ranking[i]]\n",
    "    s = scores[ranking[i]]\n",
    "    print(f\"{i+1}) {l} {np.round(float(s), 4)}\")"
   ]
  },
  {
   "cell_type": "code",
   "execution_count": 106,
   "id": "9e0fb060-1896-49d3-8c73-2b45c51b8313",
   "metadata": {},
   "outputs": [],
   "source": [
    "def get_sentiment_label_score(text):\n",
    "    # get output from model\n",
    "    encoded_input = tokenizer(text, return_tensors='pt', max_length=512, truncation=True)\n",
    "    output = model(**encoded_input)\n",
    "\n",
    "    # compute softmax scores\n",
    "    scores = output[0][0].detach().numpy()\n",
    "    scores = softmax(scores)\n",
    "\n",
    "    # ranking = list of labels in decreasing order of sentiment score\n",
    "    ranking = np.argsort(scores)[::-1]\n",
    "\n",
    "    # return dictionary of {ranking: score} for given text\n",
    "    # sentiment_map = dict()\n",
    "    # for i in range(scores.shape[0]):\n",
    "    #     l = config.id2label[ranking[i]]\n",
    "    #     s = scores[ranking[i]]\n",
    "    #     sentiment_map[l] = s\n",
    "\n",
    "    # return largest score and the associated sentiment\n",
    "    l = config.id2label[ranking[0]]\n",
    "    s = scores[ranking[0]]\n",
    "    return l, s"
   ]
  },
  {
   "cell_type": "code",
   "execution_count": 107,
   "id": "01b8f7ae-470c-4c8c-b6c8-af7d62a10493",
   "metadata": {},
   "outputs": [],
   "source": [
    "def record_sentiment(sent_data, score, key):\n",
    "    if \"scores\" in sent_data.keys():\n",
    "        sent_data[\"scores\"].append(score)\n",
    "    else:\n",
    "        sent_data[\"scores\"] = [score]\n",
    "\n",
    "    if f\"num_{key}\" in sent_data.keys():\n",
    "        sent_data[f\"num_{key}\"] += 1\n",
    "    else:\n",
    "        sent_data[f\"num_{key}\"] = 1"
   ]
  },
  {
   "cell_type": "code",
   "execution_count": 108,
   "id": "174ecf5a-cf72-47e9-980c-c1f3b3d9ed82",
   "metadata": {},
   "outputs": [],
   "source": [
    "# Option 1: take sentiment of entire post, give an average rating\n",
    "\n",
    "# Get the aggregated sentiment score for each post. Might want something like:\n",
    "# all_sentiments = {\n",
    "#    'texas': {\n",
    "#         'positive': {\n",
    "#            'scores': [0, 0, ...],\n",
    "#            'average': 0.0,\n",
    "#            'max': 0.0,\n",
    "#            'min': 0.0,\n",
    "#            'num_selftext': 0,\n",
    "#            'num_title': 0\n",
    "#        },\n",
    "#        'neutral': {\n",
    "#            ...\n",
    "#        }\n",
    "#        'negative': {\n",
    "#            ...\n",
    "#        },\n",
    "#        'sentiment': 'positive'\n",
    "#     }, ...}\n",
    "\n",
    "# iterate through each state and compute highest weight sentiment for each post\n",
    "all_sentiment = dict()\n",
    "\n",
    "for k in political_posts.keys():\n",
    "    state_data = {\n",
    "        'positive': {},\n",
    "        'neutral': {},\n",
    "        'negative': {},\n",
    "    }\n",
    "    \n",
    "    for post in political_posts[k]:\n",
    "        label, score = get_sentiment_label_score(post['selftext'])\n",
    "        record_sentiment(state_data[label], score, 'selftext')\n",
    "    \n",
    "        label, score = get_sentiment_label_score(post['title'])\n",
    "        record_sentiment(state_data[label], score, 'title')\n",
    "        \n",
    "        all_sentiment[k] = state_data"
   ]
  },
  {
   "cell_type": "code",
   "execution_count": 109,
   "id": "e28641a9-59ef-48c5-bf91-62aec75e6d35",
   "metadata": {},
   "outputs": [
    {
     "data": {
      "text/plain": [
       "{'positive': {'scores': [0.4012986, 0.4012986, 0.4012986, 0.4012986],\n",
       "  'num_selftext': 4},\n",
       " 'neutral': {'scores': [0.61926496,\n",
       "   0.61926496,\n",
       "   0.793322,\n",
       "   0.81732804,\n",
       "   0.7474167,\n",
       "   0.6769628],\n",
       "  'num_title': 4,\n",
       "  'num_selftext': 2},\n",
       " 'negative': {'scores': [0.5218421, 0.6263394], 'num_title': 2}}"
      ]
     },
     "execution_count": 109,
     "metadata": {},
     "output_type": "execute_result"
    }
   ],
   "source": [
    "all_sentiment['michigan']"
   ]
  },
  {
   "cell_type": "code",
   "execution_count": 110,
   "id": "85661625-1f1a-4c86-848e-2b36d9ed0cb0",
   "metadata": {},
   "outputs": [],
   "source": [
    "# get average, min, max, and dominant sentiment for each state\n",
    "for k in all_sentiment.keys():\n",
    "    avgs = dict()\n",
    "    state_sent = all_sentiment[k]\n",
    "    \n",
    "    for s in state_sent.keys():\n",
    "        sent = state_sent[s]\n",
    "        if 'scores' not in sent.keys():\n",
    "            sent['scores'] = [0]\n",
    "            \n",
    "        sent['min'] = min(sent['scores'])\n",
    "        sent['max'] = max(sent['scores'])\n",
    "        sent['average'] = np.mean(sent['scores'])\n",
    "        avgs[sent['average']] = s\n",
    "        \n",
    "        if 'num_selftext' not in sent.keys():\n",
    "            sent['num_selftext'] = 0\n",
    "        if 'num_title' not in sent.keys():\n",
    "            sent['num_title'] = 0\n",
    "\n",
    "    avg_sentiment = max(avgs.keys())\n",
    "    sentiment = avgs[avg_sentiment]\n",
    "    all_sentiment[k]['avg_sentiment'] = avg_sentiment\n",
    "    all_sentiment[k]['sentiment'] = sentiment"
   ]
  },
  {
   "cell_type": "code",
   "execution_count": 112,
   "id": "5e30f0f2-0225-4164-a08e-72321368d00b",
   "metadata": {},
   "outputs": [],
   "source": [
    "class NumpyEncoder(json.JSONEncoder):\n",
    "    \"\"\" Special json encoder for numpy types \"\"\"\n",
    "    def default(self, obj):\n",
    "        if isinstance(obj, np.integer):\n",
    "            return int(obj)\n",
    "        elif isinstance(obj, np.floating):\n",
    "            return float(obj)\n",
    "        elif isinstance(obj, np.ndarray):\n",
    "            return obj.tolist()\n",
    "        return json.JSONEncoder.default(self, obj)\n",
    "\n",
    "jsonified_sentiments = json.dumps(all_sentiment, cls=NumpyEncoder)"
   ]
  },
  {
   "cell_type": "code",
   "execution_count": 113,
   "id": "6fe37231-d545-4e72-93b6-c51dea433d08",
   "metadata": {},
   "outputs": [],
   "source": [
    "with open('post_sentiment_per_state', 'w') as f:\n",
    "    json.dump(jsonified_sentiments, f, indent=4)"
   ]
  },
  {
   "cell_type": "code",
   "execution_count": null,
   "id": "d4652d47-cc23-4cda-b983-d1c9b359d452",
   "metadata": {},
   "outputs": [],
   "source": []
  }
 ],
 "metadata": {
  "kernelspec": {
   "display_name": "Python 3 (ipykernel)",
   "language": "python",
   "name": "python3"
  },
  "language_info": {
   "codemirror_mode": {
    "name": "ipython",
    "version": 3
   },
   "file_extension": ".py",
   "mimetype": "text/x-python",
   "name": "python",
   "nbconvert_exporter": "python",
   "pygments_lexer": "ipython3",
   "version": "3.8.5"
  }
 },
 "nbformat": 4,
 "nbformat_minor": 5
}
